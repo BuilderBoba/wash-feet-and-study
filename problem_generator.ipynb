{
 "cells": [
  {
   "cell_type": "code",
   "execution_count": 15,
   "metadata": {},
   "outputs": [],
   "source": [
    "import pandas as pd\n",
    "import random"
   ]
  },
  {
   "cell_type": "code",
   "execution_count": 32,
   "metadata": {},
   "outputs": [],
   "source": [
    "problems = pd.read_excel('problems.xlsx')"
   ]
  },
  {
   "cell_type": "code",
   "execution_count": 33,
   "metadata": {},
   "outputs": [],
   "source": [
    "sampled = random.sample(range(2),2)"
   ]
  },
  {
   "cell_type": "code",
   "execution_count": 41,
   "metadata": {},
   "outputs": [],
   "source": [
    "df = problems.iloc[sampled].sort_index()"
   ]
  },
  {
   "cell_type": "code",
   "execution_count": 51,
   "metadata": {},
   "outputs": [
    {
     "name": "stdout",
     "output_type": "stream",
     "text": [
      "Name                           Anagram\n",
      "Description                bla bla bla\n",
      "Link             https://www.naver.com\n",
      "No. Solutions                        3\n",
      "Chapter/Page                         1\n",
      "---------------------------------------\n",
      "Name                      Pallindrome\n",
      "Description               bla bla bla\n",
      "Link             https://www.daum.com\n",
      "No. Solutions                       2\n",
      "Chapter/Page                        1\n",
      "---------------------------------------\n"
     ]
    }
   ],
   "source": [
    "for q in range(len(df)):\n",
    "    print(df.iloc[q].to_string())\n",
    "    print('---------------------------------------')"
   ]
  },
  {
   "cell_type": "code",
   "execution_count": null,
   "metadata": {},
   "outputs": [],
   "source": []
  }
 ],
 "metadata": {
  "kernelspec": {
   "display_name": "Python 3",
   "language": "python",
   "name": "python3"
  },
  "language_info": {
   "codemirror_mode": {
    "name": "ipython",
    "version": 3
   },
   "file_extension": ".py",
   "mimetype": "text/x-python",
   "name": "python",
   "nbconvert_exporter": "python",
   "pygments_lexer": "ipython3",
   "version": "3.6.4"
  }
 },
 "nbformat": 4,
 "nbformat_minor": 2
}
